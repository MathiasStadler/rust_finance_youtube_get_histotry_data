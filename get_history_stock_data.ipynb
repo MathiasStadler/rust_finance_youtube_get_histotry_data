{
 "cells": [
  {
   "cell_type": "markdown",
   "metadata": {},
   "source": [
    "# [test thirty four](https://crates.io/crates/thirtyfour)"
   ]
  },
  {
   "cell_type": "markdown",
   "metadata": {},
   "source": [
    "## add libs\n",
    "```\n",
    "cargo add tokio\n",
    "```\n",
    "\n",
    "``` cargo add thirtyfour\n",
    "```\n",
    "\n",
    "\n"
   ]
  },
  {
   "cell_type": "markdown",
   "metadata": {},
   "source": [
    "# found browser driver\n",
    "## Download links for these are here:\n",
    "\n",
    "* [chromedriver:] (https://chromedriver.chromium.org/downloads)\n",
    "* [geckodriver:] (https://github.com/mozilla/geckodriver/releases)\n",
    "\n",
    "[geckodriver-v0.33.0-linux64.tar.gz](https://github.com/mozilla/geckodriver/releases/download/v0.33.0/geckodriver-v0.33.0-linux64.tar.gz)\n"
   ]
  },
  {
   "cell_type": "code",
   "execution_count": null,
   "metadata": {
    "vscode": {
     "languageId": "shellscript"
    }
   },
   "outputs": [],
   "source": [
    "wget https://github.com/mozilla/geckodriver/releases/download/v0.33.0/geckodriver-v0.33.0-linux64.tar.gz"
   ]
  },
  {
   "cell_type": "markdown",
   "metadata": {},
   "source": [
    "# extract"
   ]
  },
  {
   "cell_type": "code",
   "execution_count": null,
   "metadata": {
    "vscode": {
     "languageId": "shellscript"
    }
   },
   "outputs": [],
   "source": [
    "tar -xvzf geckodriver-v0.33.0-linux64.tar.gz"
   ]
  },
  {
   "cell_type": "markdown",
   "metadata": {},
   "source": [
    "# show version"
   ]
  },
  {
   "cell_type": "code",
   "execution_count": null,
   "metadata": {
    "vscode": {
     "languageId": "shellscript"
    }
   },
   "outputs": [],
   "source": [
    "./geckodriver --version"
   ]
  },
  {
   "cell_type": "markdown",
   "metadata": {},
   "source": [
    "# target stock => TREX\n",
    "# webpage => [finance.yahoo.de](https://de.finance.yahoo.com/quote/TREX?p=TREX&.tsrc=fin-srch)\n",
    "                                https://de.finance.yahoo.com/quote/TREX?p=TREX&.tsrc=fin-srch"
   ]
  },
  {
   "cell_type": "markdown",
   "metadata": {},
   "source": [
    "# Xpath Download Trex\n",
    "- SITE => https://de.finance.yahoo.com/quote/TREX/history?p=TREX\n",
    "- XPATH =>  /html/body/div[1]/div/div/div[1]/div/div[3]/div[1]/div/div[2]/section/div[1]/div[2]/span[2]/a"
   ]
  }
 ],
 "metadata": {
  "kernelspec": {
   "display_name": "Bash",
   "language": "bash",
   "name": "bash"
  },
  "language_info": {
   "codemirror_mode": "shell",
   "file_extension": ".sh",
   "mimetype": "text/x-sh",
   "name": "bash"
  }
 },
 "nbformat": 4,
 "nbformat_minor": 2
}
