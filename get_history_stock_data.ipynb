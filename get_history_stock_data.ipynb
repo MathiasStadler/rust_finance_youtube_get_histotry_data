{
 "cells": [
  {
   "cell_type": "markdown",
   "metadata": {},
   "source": [
    "# target stock => TREX\n",
    "# webpage => [finance.yahoo.de](https://de.finance.yahoo.com/quote/TREX?p=TREX&.tsrc=fin-srch)\n",
    "                                https://de.finance.yahoo.com/quote/TREX?p=TREX&.tsrc=fin-srch"
   ]
  },
  {
   "cell_type": "markdown",
   "metadata": {},
   "source": [
    "# Xpath Download Trex\n",
    "- SITE => https://de.finance.yahoo.com/quote/TREX/history?p=TREX\n",
    "- XPATH =>  /html/body/div[1]/div/div/div[1]/div/div[3]/div[1]/div/div[2]/section/div[1]/div[2]/span[2]/a"
   ]
  }
 ],
 "metadata": {
  "kernelspec": {
   "display_name": "Bash",
   "language": "bash",
   "name": "bash"
  },
  "language_info": {
   "name": "bash"
  }
 },
 "nbformat": 4,
 "nbformat_minor": 2
}
